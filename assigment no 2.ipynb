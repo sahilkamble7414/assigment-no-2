{
 "cells": [
  {
   "cell_type": "code",
   "execution_count": 78,
   "id": "c8b6bd06-c760-40b9-af66-ab1ad13d1dc1",
   "metadata": {},
   "outputs": [
    {
     "name": "stdout",
     "output_type": "stream",
     "text": [
      "Python\n"
     ]
    }
   ],
   "source": [
    "#que\n",
    "#String slicing is a way to extract a subset or a portion of a string using indices. Python strings are immutable sequences, which means they can't be modified.\n",
    "text = \"Python Programming\"\n",
    "print(text[:6])   \n",
    "   \n"
   ]
  },
  {
   "cell_type": "markdown",
   "id": "f74cb502-e1f4-48d2-b629-ebda884f1c53",
   "metadata": {},
   "source": [
    "#Que2 Explain the key features of lists in Python\n",
    "1)Lists in Python are mutable, which means you can modify, add, or remove elements after the list has been created\n",
    "2)Lists in Python are ordered, the elements have a definite order.\n",
    "3)The list can store any type of data element\n",
    "4)Items in the list can be accessed by their index."
   ]
  },
  {
   "cell_type": "code",
   "execution_count": 76,
   "id": "9b9a5317-95db-49ab-9430-31617ec6df24",
   "metadata": {},
   "outputs": [
    {
     "data": {
      "text/plain": [
       "4"
      ]
     },
     "execution_count": 76,
     "metadata": {},
     "output_type": "execute_result"
    }
   ],
   "source": [
    "#Que3 Describe how to access, modify, and delete elements in a list with examples.\n",
    "\n",
    "#access\n",
    "num=[1,2,3,4]\n",
    "num[3]\n",
    "#modify\n",
    "num=[1,2,3,4]\n",
    "num[2]=\"apple\"\n",
    "num\n",
    "#delete\n",
    "num=[1,2,3,4]\n",
    "num .pop(3)\n",
    "\n",
    "\n",
    "\n"
   ]
  },
  {
   "cell_type": "markdown",
   "id": "472fab0a-54b1-4d5a-ac91-a516c57b2f0b",
   "metadata": {},
   "source": [
    "#que4 Compare and contrast tuples and lists with examples.\n",
    "#1Lists are mutable, that the elements can be changed (added, removed, or updated) after the list is created.\n",
    "#1Tuples are immutable, meaning once they are created, their elements cannot be changed.\n",
    "#List \n",
    "num = [1, 2, 3]\n",
    "num.append(\"apple\") \n",
    "print(num)  \n",
    "\n",
    "#Tuple\n",
    "my_tuple = (1, 2, 3)\n",
    "#Items in the list can be access by their index.\n",
    "#Items in the tuple can be access by their index.\n",
    "#list\n",
    "a=[1,2,3,4] \n",
    "a[2]\n",
    "#tuple\n",
    "a=(1,2,3,4) \n",
    "a[1]\n",
    "\n"
   ]
  },
  {
   "cell_type": "code",
   "execution_count": 36,
   "id": "af7f0a4b-3f02-4780-aec3-79c1c85d3073",
   "metadata": {},
   "outputs": [
    {
     "name": "stdout",
     "output_type": "stream",
     "text": [
      "{1, 2, 3, 4}\n",
      "{1, 2, 3, 4}\n",
      "{1, 2, 3, 5}\n"
     ]
    }
   ],
   "source": [
    "#Que.5 Describe the key features of sets and provide examples of their use\n",
    "#1 A set is an unordered collection of items,and they cannot be accessed by an indexing.\n",
    "my_set = {1, 2, 3, 4}\n",
    "print(my_set)\n",
    "#2 Sets do not allow duplicate elements. If add a duplicate element, it will only appear once.\n",
    "my_set = {1, 2, 2, 3, 4}\n",
    "print(my_set)  \n",
    "#3Sets are mutable, we can add or remove items after a set has been created.\n",
    "a = {1, 2, 3}\n",
    "a.add(5)  \n",
    "print(a) \n",
    "#4Since sets are unordered, you cannot access elements by index.\n",
    "\n",
    "\n",
    "\n",
    "\n"
   ]
  },
  {
   "cell_type": "markdown",
   "id": "89e54877-a49e-4fea-9c7c-a303b83307f5",
   "metadata": {},
   "source": [
    "#que6 Discuss the use cases of tuples and sets in Python programming\n",
    "#Tuple\n",
    "1)Tuples are used for ordered and immutable collections\n",
    "2)Tuple provide secure way to store data.\n",
    "3)Tuple allow duplicate item .\n",
    "#set\n",
    "1) Set are Mutable,and it is un-orderd collection.\n",
    "2) it cann't access by indexing.\n",
    "3)Only unique elements(doesn't allow duplicate)."
   ]
  },
  {
   "cell_type": "code",
   "execution_count": 5,
   "id": "9960a2a8-3824-4435-bcaa-1b2924fead7d",
   "metadata": {},
   "outputs": [
    {
     "data": {
      "text/plain": [
       "{'name': 'sahil', 'id': 'sa@gamil', 'cont': 988131}"
      ]
     },
     "execution_count": 5,
     "metadata": {},
     "output_type": "execute_result"
    }
   ],
   "source": [
    "#7Describe how to add, modify, and delete items in a dictionary with examples\n",
    "# we add item in dictionary  \n",
    "\n",
    "w={'name': 'sahil', 'id': 'sa@gamil', 'cont': 988131}\n",
    "w"
   ]
  },
  {
   "cell_type": "code",
   "execution_count": 8,
   "id": "9c73a4ad-d079-480f-93fd-b953df1283a3",
   "metadata": {},
   "outputs": [],
   "source": [
    "w['company']='hcl' "
   ]
  },
  {
   "cell_type": "code",
   "execution_count": 10,
   "id": "345efe23-8196-40d4-bd4c-8128ae8f457a",
   "metadata": {},
   "outputs": [
    {
     "data": {
      "text/plain": [
       "{'name': 'sahil', 'id': 'sa@gamil', 'cont': 988131, 'company': 'hcl'}"
      ]
     },
     "execution_count": 10,
     "metadata": {},
     "output_type": "execute_result"
    }
   ],
   "source": [
    "w"
   ]
  },
  {
   "cell_type": "code",
   "execution_count": 12,
   "id": "38bf952a-cb72-43fb-b11c-4820bfc7a552",
   "metadata": {},
   "outputs": [
    {
     "data": {
      "text/plain": [
       "{'name': 'sahil', 'id': 'sa@gamil', 'cont': 988131, 'company': 'hcl'}"
      ]
     },
     "execution_count": 12,
     "metadata": {},
     "output_type": "execute_result"
    }
   ],
   "source": [
    "# we modify item in dictionary\n",
    "w"
   ]
  },
  {
   "cell_type": "code",
   "execution_count": 14,
   "id": "245135ce-08dc-4cf6-9348-29e73ee662cf",
   "metadata": {},
   "outputs": [],
   "source": [
    "w['name']='manthan'"
   ]
  },
  {
   "cell_type": "code",
   "execution_count": 16,
   "id": "ddcdcd50-e1e7-4c38-8c48-08474020d91e",
   "metadata": {},
   "outputs": [
    {
     "data": {
      "text/plain": [
       "{'name': 'manthan', 'id': 'sa@gamil', 'cont': 988131, 'company': 'hcl'}"
      ]
     },
     "execution_count": 16,
     "metadata": {},
     "output_type": "execute_result"
    }
   ],
   "source": [
    "w"
   ]
  },
  {
   "cell_type": "code",
   "execution_count": 18,
   "id": "7407a298-0873-4b7c-89ce-ed56efd29951",
   "metadata": {},
   "outputs": [
    {
     "data": {
      "text/plain": [
       "{'name': 'manthan', 'id': 'sa@gamil', 'cont': 988131, 'company': 'hcl'}"
      ]
     },
     "execution_count": 18,
     "metadata": {},
     "output_type": "execute_result"
    }
   ],
   "source": [
    " #we delete item in dictionary\n",
    "w"
   ]
  },
  {
   "cell_type": "code",
   "execution_count": 24,
   "id": "310f3827-77f2-4eca-88d1-86446b3a8a6d",
   "metadata": {},
   "outputs": [],
   "source": [
    "del w['id']"
   ]
  },
  {
   "cell_type": "code",
   "execution_count": 26,
   "id": "1f577adb-8ddc-4af9-890c-c33d449989a4",
   "metadata": {},
   "outputs": [
    {
     "data": {
      "text/plain": [
       "{'name': 'manthan', 'cont': 988131, 'company': 'hcl'}"
      ]
     },
     "execution_count": 26,
     "metadata": {},
     "output_type": "execute_result"
    }
   ],
   "source": [
    "w"
   ]
  },
  {
   "cell_type": "markdown",
   "id": "ffb00b53-1725-47ac-9438-4f627133d263",
   "metadata": {},
   "source": [
    "#8 Discuss the importance of dictionary keys being immutable and provide examples"
   ]
  },
  {
   "cell_type": "code",
   "execution_count": 90,
   "id": "6b34c6c7-3ca2-416d-9404-5500e073948a",
   "metadata": {},
   "outputs": [
    {
     "name": "stdout",
     "output_type": "stream",
     "text": [
      "{'name': 'sahil', 'id': 'sa@gamil', 'cont': 988131}\n"
     ]
    }
   ],
   "source": [
    "#1) Dictionary keys are immutable so that once a key is created it cannot be changed.\n",
    "#2) only string and number can used as key\n",
    "#3) Immutability ensures that once a key is added to a dictionary, it cannot be modified accidentally or intentionally.\n",
    "w={'name': 'sahil', 'id': 'sa@gamil', 'cont': 988131} \n",
    "print(w)  \n",
    "\n"
   ]
  },
  {
   "cell_type": "code",
   "execution_count": null,
   "id": "1045ac11-4dbb-4101-bfb5-69cc9c8db572",
   "metadata": {},
   "outputs": [],
   "source": []
  },
  {
   "cell_type": "code",
   "execution_count": null,
   "id": "76de9bf9-830b-4a86-8458-f0486a52efe1",
   "metadata": {},
   "outputs": [],
   "source": []
  }
 ],
 "metadata": {
  "kernelspec": {
   "display_name": "Python 3 (ipykernel)",
   "language": "python",
   "name": "python3"
  },
  "language_info": {
   "codemirror_mode": {
    "name": "ipython",
    "version": 3
   },
   "file_extension": ".py",
   "mimetype": "text/x-python",
   "name": "python",
   "nbconvert_exporter": "python",
   "pygments_lexer": "ipython3",
   "version": "3.12.4"
  }
 },
 "nbformat": 4,
 "nbformat_minor": 5
}
